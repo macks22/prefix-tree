{
 "cells": [
  {
   "cell_type": "code",
   "execution_count": 26,
   "metadata": {
    "collapsed": true
   },
   "outputs": [],
   "source": [
    "class TreeNode(object):\n",
    "    \"\"\"A node in the PrefixTree.\"\"\"\n",
    "    \n",
    "    __slots__ = ['word_ids', 'tree']\n",
    "    \n",
    "    def __init__(self):\n",
    "        self.word_ids = []  # ids of words with the substring up to this node\n",
    "        self.tree = {}  # map from char to child TreeNode(s)\n",
    "    \n",
    "    def __setitem__(self, char, node):\n",
    "        self.tree[char] = node\n",
    "    \n",
    "    def __getitem__(self, char):\n",
    "        return self.tree[char]\n",
    "\n",
    "\n",
    "class PrefixTree(object):\n",
    "    \"\"\"Prefix tree for simple auto-completion.\"\"\"\n",
    "    \n",
    "    def __init__(self, words=None):\n",
    "        self.word2id = {}\n",
    "        self.id2word = []\n",
    "        self.tree = {}\n",
    "        \n",
    "        if words is not None:\n",
    "            self.insert_all(words)\n",
    "    \n",
    "    def insert(self, word):\n",
    "        \"\"\"Insert a word into the PrefixTree if it has not already been inserted.\n",
    "        The word is assigned an ID (auto-incrementing non-negative int).\n",
    "        This ID is then stored at each node in the path defined by its characters.\n",
    "        \n",
    "        \"\"\"\n",
    "        if word in self.word2id:\n",
    "            return  # word already in tree\n",
    "        \n",
    "        word_id = self._add_word(word)\n",
    "        node = self.tree\n",
    "        for char in word:\n",
    "            try:\n",
    "                node = node[char]\n",
    "            except KeyError:\n",
    "                new_node = TreeNode()\n",
    "                node[char] = new_node\n",
    "                node = new_node\n",
    "                \n",
    "            node.word_ids.append(word_id)\n",
    "                \n",
    "    def _get_word_id(self, word):\n",
    "        try:\n",
    "            return self.word2id[word]\n",
    "        except KeyError:\n",
    "            return self._add_word(word)\n",
    "        \n",
    "    def _add_word(self, word):\n",
    "        word_id = len(self.word2id)\n",
    "        self.word2id[word] = word_id\n",
    "        self.id2word.append(word)\n",
    "        return word_id\n",
    "\n",
    "    def insert_all(self, words):\n",
    "        for word in words:\n",
    "            self.insert(word)\n",
    "    \n",
    "    def search(self, substr):\n",
    "        \"\"\"Return all words that start with this substring.\n",
    "        The `substr` is stripped of whitespace and lowercased before searching.\n",
    "        \n",
    "        \"\"\"\n",
    "        substr = substr.strip().lower()\n",
    "        try:\n",
    "            node = self.tree[substr[0]]\n",
    "        except KeyError:\n",
    "            return []\n",
    "        \n",
    "        for char in substr[1:]:\n",
    "            try:\n",
    "                node = node[char]\n",
    "            except KeyError:\n",
    "                return []\n",
    "                \n",
    "        return [self.id2word[word_id] for word_id in node.word_ids]\n"
   ]
  },
  {
   "cell_type": "code",
   "execution_count": 27,
   "metadata": {
    "collapsed": false
   },
   "outputs": [],
   "source": [
    "tree = PrefixTree()\n",
    "\n",
    "tree.insert('hello')\n",
    "tree.insert('helios')\n",
    "tree.insert('howdy')\n",
    "tree.insert('house')\n",
    "assert(tree.search('he') == ['hello', 'helios'])\n",
    "assert(tree.search('hel') == ['hello', 'helios'])\n",
    "assert(tree.search('ho') == ['howdy', 'house'])\n",
    "assert(tree.search('hi') == [])\n",
    "\n",
    "tree.insert('foo')\n",
    "tree.insert('fizz')\n",
    "assert(tree.search('fo') == ['foo'])\n",
    "tree.insert('foobar')\n",
    "assert(tree.search('foo') == ['foo', 'foobar'])\n",
    "\n",
    "del tree"
   ]
  },
  {
   "cell_type": "code",
   "execution_count": 30,
   "metadata": {
    "collapsed": false
   },
   "outputs": [
    {
     "name": "stdout",
     "output_type": "stream",
     "text": [
      "There are 354909 words\n"
     ]
    }
   ],
   "source": [
    "# Read in a file with many english words\n",
    "with open('cleaned-words.txt') as f:\n",
    "    words = [l.strip() for l in f if l.strip()]\n",
    "\n",
    "print(\"There are %d words\" % len(words))"
   ]
  },
  {
   "cell_type": "code",
   "execution_count": 29,
   "metadata": {
    "collapsed": false
   },
   "outputs": [
    {
     "name": "stdout",
     "output_type": "stream",
     "text": [
      "1 loop, best of 3: 4.59 s per loop\n"
     ]
    }
   ],
   "source": [
    "# How long does it take to insert all the words?\n",
    "%timeit PrefixTree(words)"
   ]
  },
  {
   "cell_type": "code",
   "execution_count": 32,
   "metadata": {
    "collapsed": false
   },
   "outputs": [],
   "source": [
    "# How long does it take to conduct 1 million searches?\n",
    "import random\n",
    "random.seed(42)\n",
    "\n",
    "# Let's grab a bunch of random substrings to search for.\n",
    "substrings = []\n",
    "num_searches = 1000000\n",
    "while len(substrings) < num_searches:\n",
    "    for word in words:\n",
    "        if len(word) <= 2:\n",
    "            substrings.append(word)\n",
    "        else:\n",
    "            offset = random.randint(2, len(word) - 1)\n",
    "            substrings.append(word[offset:])"
   ]
  },
  {
   "cell_type": "code",
   "execution_count": 34,
   "metadata": {
    "collapsed": false
   },
   "outputs": [
    {
     "name": "stdout",
     "output_type": "stream",
     "text": [
      "1 loop, best of 3: 15min 38s per loop\n"
     ]
    }
   ],
   "source": [
    "# Theoretically, the complexity should be linear in the number of characters and words.\n",
    "tree = PrefixTree(words)\n",
    "%timeit map(tree.search, substrings)"
   ]
  },
  {
   "cell_type": "code",
   "execution_count": 42,
   "metadata": {
    "collapsed": false
   },
   "outputs": [
    {
     "name": "stdout",
     "output_type": "stream",
     "text": [
      "Avg insertion time/word: 0.0129ms\n",
      "Avg lookup time: 0.9380ms\n"
     ]
    }
   ],
   "source": [
    "# My timings were 4.59s for 354,909 words and 15 min, 38s for 1M lookups.\n",
    "insert_time_s = (4.59 / 354909)\n",
    "print(\"Avg insertion time/word: %.4fms\" % (insert_time_s * 1000))\n",
    "lookup_time_s = ((15 * 60) + 38) / 1000000.\n",
    "print(\"Avg lookup time: %.4fms\" % (lookup_time_s * 1000))"
   ]
  },
  {
   "cell_type": "code",
   "execution_count": null,
   "metadata": {
    "collapsed": true
   },
   "outputs": [],
   "source": []
  }
 ],
 "metadata": {
  "kernelspec": {
   "display_name": "Python 2",
   "language": "python",
   "name": "python2"
  },
  "language_info": {
   "codemirror_mode": {
    "name": "ipython",
    "version": 2
   },
   "file_extension": ".py",
   "mimetype": "text/x-python",
   "name": "python",
   "nbconvert_exporter": "python",
   "pygments_lexer": "ipython2",
   "version": "2.7.13"
  }
 },
 "nbformat": 4,
 "nbformat_minor": 2
}
